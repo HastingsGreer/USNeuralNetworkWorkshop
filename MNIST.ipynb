{
 "cells": [
  {
   "cell_type": "code",
   "execution_count": 2,
   "metadata": {
    "collapsed": true
   },
   "outputs": [],
   "source": [
    "import cell_logger"
   ]
  },
  {
   "cell_type": "code",
   "execution_count": 3,
   "metadata": {},
   "outputs": [
    {
     "name": "stdout",
     "output_type": "stream",
     "text": [
      "x_train shape: (60000, 28, 28, 1)\n",
      "60000 train samples\n",
      "10000 test samples\n",
      "Train on 60000 samples, validate on 10000 samples\n",
      "Epoch 1/12\n",
      "60000/60000 [==============================] - 5s - loss: 0.3310 - acc: 0.9011 - val_loss: 0.0781 - val_acc: 0.9754\n",
      "Epoch 2/12\n",
      "60000/60000 [==============================] - 5s - loss: 0.1126 - acc: 0.9672 - val_loss: 0.0535 - val_acc: 0.9825\n",
      "Epoch 3/12\n",
      "60000/60000 [==============================] - 5s - loss: 0.0856 - acc: 0.9744 - val_loss: 0.0459 - val_acc: 0.9849\n",
      "Epoch 4/12\n",
      "60000/60000 [==============================] - 5s - loss: 0.0706 - acc: 0.9789 - val_loss: 0.0381 - val_acc: 0.9870\n",
      "Epoch 5/12\n",
      "60000/60000 [==============================] - 5s - loss: 0.0622 - acc: 0.9819 - val_loss: 0.0354 - val_acc: 0.9884\n",
      "Epoch 6/12\n",
      "60000/60000 [==============================] - 5s - loss: 0.0541 - acc: 0.9838 - val_loss: 0.0326 - val_acc: 0.9894\n",
      "Epoch 7/12\n",
      "60000/60000 [==============================] - 5s - loss: 0.0485 - acc: 0.9858 - val_loss: 0.0342 - val_acc: 0.9886\n",
      "Epoch 8/12\n",
      "60000/60000 [==============================] - 5s - loss: 0.0465 - acc: 0.9856 - val_loss: 0.0355 - val_acc: 0.9884\n",
      "Epoch 9/12\n",
      "60000/60000 [==============================] - 5s - loss: 0.0429 - acc: 0.9872 - val_loss: 0.0330 - val_acc: 0.9890\n",
      "Epoch 10/12\n",
      "60000/60000 [==============================] - 5s - loss: 0.0409 - acc: 0.9881 - val_loss: 0.0302 - val_acc: 0.9900\n",
      "Epoch 11/12\n",
      "60000/60000 [==============================] - 5s - loss: 0.0382 - acc: 0.9885 - val_loss: 0.0321 - val_acc: 0.9897\n",
      "Epoch 12/12\n",
      "60000/60000 [==============================] - 5s - loss: 0.0368 - acc: 0.9889 - val_loss: 0.0312 - val_acc: 0.9904\n",
      "Test loss: 0.0311818463294\n",
      "Test accuracy: 0.9904\n"
     ]
    }
   ],
   "source": [
    "%%log\n",
    "#https://github.com/keras-team/keras/blob/master/examples/mnist_cnn.py\n",
    "\n",
    "\n",
    "'''Trains a simple convnet on the MNIST dataset.\n",
    "Gets to 99.25% test accuracy after 12 epochs\n",
    "(there is still a lot of margin for parameter tuning).\n",
    "16 seconds per epoch on a GRID K520 GPU.\n",
    "'''\n",
    "\n",
    "from __future__ import print_function\n",
    "import keras\n",
    "from keras.datasets import mnist\n",
    "from keras.models import Sequential\n",
    "from keras.layers import Dense, Dropout, Flatten\n",
    "from keras.layers import Conv2D, MaxPooling2D\n",
    "from keras import backend as K\n",
    "\n",
    "batch_size = 128\n",
    "num_classes = 10\n",
    "epochs = 12\n",
    "\n",
    "# input image dimensions\n",
    "img_rows, img_cols = 28, 28\n",
    "\n",
    "# the data, split between train and test sets\n",
    "(x_train, y_train), (x_test, y_test) = mnist.load_data()\n",
    "\n",
    "if K.image_data_format() == 'channels_first':\n",
    "    x_train = x_train.reshape(x_train.shape[0], 1, img_rows, img_cols)\n",
    "    x_test = x_test.reshape(x_test.shape[0], 1, img_rows, img_cols)\n",
    "    input_shape = (1, img_rows, img_cols)\n",
    "else:\n",
    "    x_train = x_train.reshape(x_train.shape[0], img_rows, img_cols, 1)\n",
    "    x_test = x_test.reshape(x_test.shape[0], img_rows, img_cols, 1)\n",
    "    input_shape = (img_rows, img_cols, 1)\n",
    "\n",
    "x_train = x_train.astype('float32')\n",
    "x_test = x_test.astype('float32')\n",
    "x_train /= 255\n",
    "x_test /= 255\n",
    "print('x_train shape:', x_train.shape)\n",
    "print(x_train.shape[0], 'train samples')\n",
    "print(x_test.shape[0], 'test samples')\n",
    "\n",
    "# convert class vectors to binary class matrices\n",
    "y_train = keras.utils.to_categorical(y_train, num_classes)\n",
    "y_test = keras.utils.to_categorical(y_test, num_classes)\n",
    "\n",
    "model = Sequential()\n",
    "model.add(Conv2D(32, kernel_size=(3, 3),\n",
    "                 activation='relu',\n",
    "                 input_shape=input_shape))\n",
    "model.add(Conv2D(64, (3, 3), activation='relu'))\n",
    "model.add(MaxPooling2D(pool_size=(2, 2)))\n",
    "model.add(Dropout(0.25))\n",
    "model.add(Flatten())\n",
    "model.add(Dense(128, activation='relu'))\n",
    "model.add(Dropout(0.5))\n",
    "model.add(Dense(num_classes, activation='softmax'))\n",
    "\n",
    "model.compile(loss=keras.losses.categorical_crossentropy,\n",
    "              optimizer=keras.optimizers.Adadelta(),\n",
    "              metrics=['accuracy'])\n",
    "\n",
    "model.fit(x_train, y_train,\n",
    "          batch_size=batch_size,\n",
    "          epochs=epochs,\n",
    "          verbose=1,\n",
    "          validation_data=(x_test, y_test))\n",
    "score = model.evaluate(x_test, y_test, verbose=0)\n",
    "print('Test loss:', score[0])\n",
    "print('Test accuracy:', score[1])"
   ]
  },
  {
   "cell_type": "code",
   "execution_count": 4,
   "metadata": {},
   "outputs": [
    {
     "name": "stdout",
     "output_type": "stream",
     "text": [
      "unique name of training run for logging:\n",
      "mnist_run\n"
     ]
    }
   ],
   "source": [
    "print(\"unique name of training run for logging:\")\n",
    "save_name = input()\n",
    "save_dir = \"runs/\" + save_name\n",
    "import os\n",
    "import pickle\n",
    "import shutil\n",
    "os.mkdir(save_dir)\n",
    "with open(save_dir + \"/notebook_cells_log.py\", \"w\") as file:\n",
    "    cell_logger.dump_history(file)\n",
    "\n",
    "model.save(save_dir + \"/final_weights\")\n",
    "\n",
    "pickle.dump(score, open(save_dir + \"/loss_\"+ str(score[0]) + \".pickle\", \"wb\"))"
   ]
  },
  {
   "cell_type": "code",
   "execution_count": null,
   "metadata": {
    "collapsed": true
   },
   "outputs": [],
   "source": []
  }
 ],
 "metadata": {
  "kernelspec": {
   "display_name": "Python 3",
   "language": "python",
   "name": "python3"
  },
  "language_info": {
   "codemirror_mode": {
    "name": "ipython",
    "version": 3
   },
   "file_extension": ".py",
   "mimetype": "text/x-python",
   "name": "python",
   "nbconvert_exporter": "python",
   "pygments_lexer": "ipython3",
   "version": "3.5.3"
  }
 },
 "nbformat": 4,
 "nbformat_minor": 2
}
